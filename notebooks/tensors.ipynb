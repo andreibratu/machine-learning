{
 "cells": [
  {
   "cell_type": "code",
   "execution_count": 10,
   "outputs": [],
   "source": [
    "from __future__ import print_function\n",
    "import torch"
   ],
   "metadata": {
    "collapsed": false,
    "pycharm": {
     "name": "#%%\n",
     "is_executing": false
    }
   }
  },
  {
   "cell_type": "code",
   "execution_count": 11,
   "outputs": [
    {
     "name": "stdout",
     "text": [
      "tensor([[1.0194e-38, 9.6429e-39, 9.2755e-39],\n",
      "        [9.1837e-39, 9.3674e-39, 1.0745e-38],\n",
      "        [1.0653e-38, 9.5510e-39, 1.0561e-38],\n",
      "        [1.0194e-38, 1.1112e-38, 1.0561e-38],\n",
      "        [9.9184e-39, 1.0653e-38, 4.1327e-39]])\n",
      "tensor([[0.3571, 0.6803],\n",
      "        [0.9107, 0.0928]])\n",
      "tensor([[3.3571, 3.6803],\n",
      "        [3.9107, 3.0928]])\n"
     ],
     "output_type": "stream"
    }
   ],
   "source": [
    "x = torch.empty(5, 3)\n",
    "print(x)\n",
    "\n",
    "x = torch.rand(2, 2)\n",
    "print(x)\n",
    "\n",
    "y = torch.tensor([[3, 3], [3, 3]], dtype=torch.float)\n",
    "\n",
    "y.add_(x)  # In-place operations have an underscore at the end\n",
    "print(y)"
   ],
   "metadata": {
    "collapsed": false,
    "pycharm": {
     "name": "#%%\n",
     "is_executing": false
    }
   }
  },
  {
   "cell_type": "code",
   "execution_count": 12,
   "outputs": [
    {
     "name": "stdout",
     "text": [
      "torch.Size([4, 4]) torch.Size([16]) torch.Size([2, 8])\n",
      "tensor([-0.7379])\n",
      "-0.7379130125045776\n"
     ],
     "output_type": "stream"
    }
   ],
   "source": [
    "x = torch.randn(4, 4)\n",
    "y = x.view(16)\n",
    "z = x.view(-1, 8)  # the size -1 is inferred from other dimensions\n",
    "print(x.size(), y.size(), z.size())\n",
    "\n",
    "# If you have a one element tensor, use .item() to get the value as a Python number\n",
    "x = torch.randn(1)\n",
    "print(x)\n",
    "print(x.item())\n"
   ],
   "metadata": {
    "collapsed": false,
    "pycharm": {
     "name": "#%%\n",
     "is_executing": false
    }
   }
  },
  {
   "cell_type": "code",
   "execution_count": 13,
   "outputs": [
    {
     "name": "stdout",
     "text": [
      "tensor([-0.7379], device='cuda:0')\n"
     ],
     "output_type": "stream"
    }
   ],
   "source": [
    "if torch.cuda.is_available():\n",
    "    device = torch.device(\"cuda\")          # a CUDA device object\n",
    "    y = torch.ones_like(x, device=device)  # directly create a tensor on GPU\n",
    "    x = x.to(device)                       # or just use strings\n",
    "    print(x)\n",
    "    "
   ],
   "metadata": {
    "collapsed": false,
    "pycharm": {
     "name": "#%%\n",
     "is_executing": false
    }
   }
  }
 ],
 "metadata": {
  "kernelspec": {
   "display_name": "Python 3",
   "language": "python",
   "name": "python3"
  },
  "language_info": {
   "codemirror_mode": {
    "name": "ipython",
    "version": 2
   },
   "file_extension": ".py",
   "mimetype": "text/x-python",
   "name": "python",
   "nbconvert_exporter": "python",
   "pygments_lexer": "ipython2",
   "version": "2.7.6"
  },
  "pycharm": {
   "stem_cell": {
    "cell_type": "raw",
    "source": [],
    "metadata": {
     "collapsed": false
    }
   }
  }
 },
 "nbformat": 4,
 "nbformat_minor": 0
}